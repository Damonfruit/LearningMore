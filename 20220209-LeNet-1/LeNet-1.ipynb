{
 "cells": [
  {
   "cell_type": "markdown",
   "metadata": {},
   "source": [
    "## 20220209 LeNet-1复现\n",
    "## 学一点会一点"
   ]
  },
  {
   "cell_type": "markdown",
   "metadata": {},
   "source": [
    "## 1. 导入需要的库"
   ]
  },
  {
   "cell_type": "code",
   "execution_count": 2,
   "metadata": {},
   "outputs": [],
   "source": [
    "import torch\n",
    "import torchvision\n",
    "import torch.nn as nn \n",
    "import matplotlib.pyplot as plt \n",
    "import torch.utils.data as Data\n",
    "import torch.nn.functional as F \n",
    "import torchvision.transforms as transforms\n"
   ]
  },
  {
   "cell_type": "markdown",
   "metadata": {},
   "source": [
    "## 2. 数据准备"
   ]
  },
  {
   "cell_type": "code",
   "execution_count": 3,
   "metadata": {},
   "outputs": [],
   "source": [
    "## 数据变换, 把数据转为tensor\n",
    "trans_to_tensor = transforms.Compose([\n",
    "    transforms.ToTensor()\n",
    "])\n",
    "## 下载训练集\n",
    "data_train = torchvision.datasets.MNIST(\n",
    "    root='./data',\n",
    "    train=True,\n",
    "    transform=trans_to_tensor,\n",
    "    download=True\n",
    ")\n",
    "## 下载测试集\n",
    "data_test = torchvision.datasets.MNIST(\n",
    "    root='./data',\n",
    "    train=False,\n",
    "    download=True,\n",
    "    transform=trans_to_tensor\n",
    ")"
   ]
  },
  {
   "cell_type": "code",
   "execution_count": 4,
   "metadata": {},
   "outputs": [
    {
     "data": {
      "text/plain": [
       "Dataset MNIST\n",
       "    Number of datapoints: 10000\n",
       "    Root location: ./data\n",
       "    Split: Test\n",
       "    StandardTransform\n",
       "Transform: Compose(\n",
       "               ToTensor()\n",
       "           )"
      ]
     },
     "execution_count": 4,
     "metadata": {},
     "output_type": "execute_result"
    }
   ],
   "source": [
    "## 看看数据\n",
    "data_test\n",
    "#data_train"
   ]
  },
  {
   "cell_type": "code",
   "execution_count": 5,
   "metadata": {},
   "outputs": [
    {
     "data": {
      "text/plain": [
       "tensor(6)"
      ]
     },
     "execution_count": 5,
     "metadata": {},
     "output_type": "execute_result"
    },
    {
     "data": {
      "image/png": "[encoded data removed]",
      "text/plain": [
       "<Figure size 432x288 with 1 Axes>"
      ]
     },
     "metadata": {
      "needs_background": "light"
     },
     "output_type": "display_data"
    }
   ],
   "source": [
    "## DataLoader\n",
    "train_loader = Data.DataLoader(data_train,batch_size=100,shuffle=True)\n",
    "## 取出一张图像来可视化\n",
    "image, label = next(iter(train_loader))\n",
    "plt.imshow(image[0].squeeze(0), cmap='gray')\n",
    "label[0]"
   ]
  },
  {
   "cell_type": "markdown",
   "metadata": {},
   "source": [
    "## 3. 定义模型\n"
   ]
  },
  {
   "cell_type": "code",
   "execution_count": 6,
   "metadata": {},
   "outputs": [],
   "source": [
    "## 定义模型\n",
    "class LeNet1(nn.Module):\n",
    "\n",
    "    def __init__(self):\n",
    "        super().__init__()\n",
    "\n",
    "        self.conv1 = nn.Conv2d(1, 4, 5) # 默认 stride=1, padding=0\n",
    "        self.pool1 = nn.AvgPool2d(2, 2)\n",
    "        self.conv2 = nn.Conv2d(4, 12, 5)\n",
    "        self.pool2 = nn.AvgPool2d(2, 2)\n",
    "        self.fc1 = nn.Linear(12*4*4, 10)\n",
    "\n",
    "    def forward(self, x):\n",
    "        out = torch.tanh(self.conv1(x))\n",
    "        out = self.pool1(out)\n",
    "        out = torch.tanh(self.conv2(out))\n",
    "        out = self.pool2(out)\n",
    "        out = out.view(-1, 12*4*4)\n",
    "        out = self.fc1(out)\n",
    "\n",
    "        return out\n",
    "\n",
    "## 实例化模型\n",
    "device = torch.device(\"cuda\" if torch.cuda.is_available() else \"cpu\")\n",
    "my_net = LeNet1().to(device)"
   ]
  },
  {
   "cell_type": "code",
   "execution_count": 7,
   "metadata": {},
   "outputs": [
    {
     "data": {
      "text/plain": [
       "LeNet1(\n",
       "  (conv1): Conv2d(1, 4, kernel_size=(5, 5), stride=(1, 1))\n",
       "  (pool1): AvgPool2d(kernel_size=2, stride=2, padding=0)\n",
       "  (conv2): Conv2d(4, 12, kernel_size=(5, 5), stride=(1, 1))\n",
       "  (pool2): AvgPool2d(kernel_size=2, stride=2, padding=0)\n",
       "  (fc1): Linear(in_features=192, out_features=10, bias=True)\n",
       ")"
      ]
     },
     "execution_count": 7,
     "metadata": {},
     "output_type": "execute_result"
    }
   ],
   "source": [
    "my_net"
   ]
  },
  {
   "cell_type": "code",
   "execution_count": 8,
   "metadata": {},
   "outputs": [
    {
     "name": "stdout",
     "output_type": "stream",
     "text": [
      "cuda:0\n"
     ]
    }
   ],
   "source": [
    "print(next(my_net.parameters()).device)"
   ]
  },
  {
   "cell_type": "markdown",
   "metadata": {},
   "source": [
    "## 4. 定义损失函数和优化器\n"
   ]
  },
  {
   "cell_type": "code",
   "execution_count": 9,
   "metadata": {},
   "outputs": [],
   "source": [
    "criterion = nn.CrossEntropyLoss()\n",
    "optimizer = torch.optim.Adam(my_net.parameters(), lr=0.2)"
   ]
  },
  {
   "cell_type": "markdown",
   "metadata": {},
   "source": [
    "## 5. 训练模型"
   ]
  },
  {
   "cell_type": "code",
   "execution_count": 135,
   "metadata": {},
   "outputs": [],
   "source": [
    "## 定义模型训练的函数\n",
    "def net_train(net, epoch=1, device='cuda'):\n",
    "    net.train() # 设置为训练模式\n",
    "    run_loss = 0 \n",
    "\n",
    "    for num_epoch in range(epoch):\n",
    "        print(f'This is the epoch : {num_epoch}')\n",
    "\n",
    "        for i, data in enumerate(train_loader):\n",
    "            images, labels = data[0], data[1]\n",
    "            # 如果有cuda，把数据转移到gpu上\n",
    "            # device = torch.device(\"cuda\" if torch.cuda.is_available() else \"cpu\")\n",
    "            # print(device)\n",
    "            images, labels = images.to(device), labels.to(device)\n",
    "\n",
    "\n",
    "            outputs = net(images)\n",
    "            loss = criterion(outputs, labels)\n",
    "\n",
    "            optimizer.zero_grad()\n",
    "            loss.backward()\n",
    "            optimizer.step()\n",
    "\n",
    "            run_loss = loss.item()\n",
    "\n",
    "            if i % 100 ==99:\n",
    "                print(f'训练进度：{(i+1) * 100}/ 60000 , loss = {run_loss/100}')\n",
    "                loss = 0\n",
    "                \n",
    "\n",
    "\n",
    "\n"
   ]
  },
  {
   "cell_type": "code",
   "execution_count": 10,
   "metadata": {},
   "outputs": [],
   "source": [
    "## 为了更好的看到模型在测试集上的效果，我们定义一个测试集函数\n",
    "def net_test(net, device='cuda'):\n",
    "    net.eval()  # 转为测试模式\n",
    "\n",
    "    ## 先定义测试数据的dataloader\n",
    "\n",
    "    test_loader = Data.DataLoader(data_train, batch_size= 10000, shuffle=False)\n",
    "    test_data = next(iter(test_loader))\n",
    "\n",
    "    with torch.no_grad():\n",
    "        images, labels = test_data[0], test_data[1]\n",
    "        images, labels = images.to(device), labels.to(device)\n",
    "\n",
    "        outputs = net(images)\n",
    "\n",
    "        pred = torch.max(outputs, 1)[1]\n",
    "        print(f'test acc : {sum(pred == labels) / outputs.shape[0]}')\n",
    "    \n",
    "    net.train()"
   ]
  },
  {
   "cell_type": "code",
   "execution_count": 11,
   "metadata": {},
   "outputs": [],
   "source": [
    "## 带测试集评估的模型训练\n",
    "\n",
    "def net_train(net, epoch=1, device='cuda'):\n",
    "    net.train() # 设置为训练模式\n",
    "    run_loss = 0 \n",
    "\n",
    "    for num_epoch in range(epoch):\n",
    "        print(f'This is the epoch : {num_epoch}')\n",
    "\n",
    "        for i, data in enumerate(train_loader):\n",
    "            images, labels = data[0], data[1]\n",
    "            # 如果有cuda，把数据转移到gpu上\n",
    "            # device = torch.device(\"cuda\" if torch.cuda.is_available() else \"cpu\")\n",
    "            # print(device)\n",
    "            images, labels = images.to(device), labels.to(device)\n",
    "\n",
    "\n",
    "            outputs = net(images)\n",
    "            loss = criterion(outputs, labels)\n",
    "\n",
    "            optimizer.zero_grad()\n",
    "            loss.backward()\n",
    "            optimizer.step()\n",
    "\n",
    "            run_loss = loss.item()\n",
    "\n",
    "            if i % 100 ==99:\n",
    "                print(f'训练进度：{(i+1) * 100}/ 60000 , loss = {run_loss/100}')\n",
    "                loss = 0\n",
    "                \n",
    "                net_test(net)\n",
    "\n"
   ]
  },
  {
   "cell_type": "code",
   "execution_count": 12,
   "metadata": {},
   "outputs": [
    {
     "name": "stdout",
     "output_type": "stream",
     "text": [
      "This is the epoch : 0\n",
      "训练进度：10000/ 60000 , loss = 0.007613426446914673\n",
      "test acc : 0.8319999575614929\n",
      "训练进度：20000/ 60000 , loss = 0.0050237512588500975\n",
      "test acc : 0.8833000063896179\n",
      "训练进度：30000/ 60000 , loss = 0.003643186986446381\n",
      "test acc : 0.8342999815940857\n",
      "训练进度：40000/ 60000 , loss = 0.009537143111228942\n",
      "test acc : 0.8799999952316284\n",
      "训练进度：50000/ 60000 , loss = 0.006320258378982544\n",
      "test acc : 0.8907999992370605\n",
      "训练进度：60000/ 60000 , loss = 0.00590831995010376\n",
      "test acc : 0.8958999514579773\n",
      "This is the epoch : 1\n",
      "训练进度：10000/ 60000 , loss = 0.00733074963092804\n",
      "test acc : 0.8966999650001526\n",
      "训练进度：20000/ 60000 , loss = 0.005839568972587586\n",
      "test acc : 0.859499990940094\n",
      "训练进度：30000/ 60000 , loss = 0.009758508801460265\n",
      "test acc : 0.8769999742507935\n",
      "训练进度：40000/ 60000 , loss = 0.0058060926198959355\n",
      "test acc : 0.9293999671936035\n",
      "训练进度：50000/ 60000 , loss = 0.004880451858043671\n",
      "test acc : 0.8836999535560608\n",
      "训练进度：60000/ 60000 , loss = 0.008725976347923279\n",
      "test acc : 0.9246999621391296\n",
      "This is the epoch : 2\n",
      "训练进度：10000/ 60000 , loss = 0.01243964433670044\n",
      "test acc : 0.8813999891281128\n",
      "训练进度：20000/ 60000 , loss = 0.006792576313018799\n",
      "test acc : 0.9389999508857727\n",
      "训练进度：30000/ 60000 , loss = 0.004501385092735291\n",
      "test acc : 0.9054999947547913\n",
      "训练进度：40000/ 60000 , loss = 0.005274980664253235\n",
      "test acc : 0.9314000010490417\n",
      "训练进度：50000/ 60000 , loss = 0.01585140347480774\n",
      "test acc : 0.8570999503135681\n",
      "训练进度：60000/ 60000 , loss = 0.0070464485883712765\n",
      "test acc : 0.9321999549865723\n",
      "This is the epoch : 3\n",
      "训练进度：10000/ 60000 , loss = 0.009554246664047241\n",
      "test acc : 0.9212999939918518\n",
      "训练进度：20000/ 60000 , loss = 0.010979324579238892\n",
      "test acc : 0.9332000017166138\n",
      "训练进度：30000/ 60000 , loss = 0.004118868708610534\n",
      "test acc : 0.9032999873161316\n",
      "训练进度：40000/ 60000 , loss = 0.0072005921602249145\n",
      "test acc : 0.9265999794006348\n",
      "训练进度：50000/ 60000 , loss = 0.009714469313621521\n",
      "test acc : 0.9279999732971191\n",
      "训练进度：60000/ 60000 , loss = 0.000639055147767067\n",
      "test acc : 0.9462999701499939\n",
      "This is the epoch : 4\n",
      "训练进度：10000/ 60000 , loss = 0.009857852458953858\n",
      "test acc : 0.9303999543190002\n",
      "训练进度：20000/ 60000 , loss = 0.004110774993896484\n",
      "test acc : 0.946899950504303\n",
      "训练进度：30000/ 60000 , loss = 0.003639049530029297\n",
      "test acc : 0.923799991607666\n",
      "训练进度：40000/ 60000 , loss = 0.007229180932044983\n",
      "test acc : 0.9376999735832214\n",
      "训练进度：50000/ 60000 , loss = 0.011021857261657714\n",
      "test acc : 0.946899950504303\n",
      "训练进度：60000/ 60000 , loss = 0.012703038454055786\n",
      "test acc : 0.9164999723434448\n",
      "This is the epoch : 5\n",
      "训练进度：10000/ 60000 , loss = 0.015866122245788573\n",
      "test acc : 0.933899998664856\n",
      "训练进度：20000/ 60000 , loss = 0.0009569979459047317\n",
      "test acc : 0.9417999982833862\n",
      "训练进度：30000/ 60000 , loss = 0.023252701759338378\n",
      "test acc : 0.9298999905586243\n",
      "训练进度：40000/ 60000 , loss = 0.011069756746292115\n",
      "test acc : 0.9350000023841858\n",
      "训练进度：50000/ 60000 , loss = 0.00953324258327484\n",
      "test acc : 0.9381999969482422\n",
      "训练进度：60000/ 60000 , loss = 0.006182665824890137\n",
      "test acc : 0.9334999918937683\n",
      "This is the epoch : 6\n",
      "训练进度：10000/ 60000 , loss = 0.008445093035697937\n",
      "test acc : 0.9530999660491943\n",
      "训练进度：20000/ 60000 , loss = 0.006256061196327209\n",
      "test acc : 0.9505999684333801\n",
      "训练进度：30000/ 60000 , loss = 0.002675909698009491\n",
      "test acc : 0.9510999917984009\n",
      "训练进度：40000/ 60000 , loss = 0.007266679406166076\n",
      "test acc : 0.9480999708175659\n",
      "训练进度：50000/ 60000 , loss = 0.010026503801345826\n",
      "test acc : 0.9078999757766724\n",
      "训练进度：60000/ 60000 , loss = 0.015512080192565917\n",
      "test acc : 0.9371999502182007\n",
      "This is the epoch : 7\n",
      "训练进度：10000/ 60000 , loss = 0.0032887589931488038\n",
      "test acc : 0.9509999752044678\n",
      "训练进度：20000/ 60000 , loss = 0.018004651069641112\n",
      "test acc : 0.9343999624252319\n",
      "训练进度：30000/ 60000 , loss = 0.003762041926383972\n",
      "test acc : 0.9204999804496765\n",
      "训练进度：40000/ 60000 , loss = 0.008387369513511657\n",
      "test acc : 0.9357999563217163\n",
      "训练进度：50000/ 60000 , loss = 0.008907558917999268\n",
      "test acc : 0.9335999488830566\n",
      "训练进度：60000/ 60000 , loss = 0.0014358359575271607\n",
      "test acc : 0.9441999793052673\n",
      "This is the epoch : 8\n",
      "训练进度：10000/ 60000 , loss = 0.010415092706680298\n",
      "test acc : 0.9412999749183655\n",
      "训练进度：20000/ 60000 , loss = 0.004588772058486939\n",
      "test acc : 0.9416999816894531\n",
      "训练进度：30000/ 60000 , loss = 0.01913162350654602\n",
      "test acc : 0.92249995470047\n",
      "训练进度：40000/ 60000 , loss = 0.008890743255615235\n",
      "test acc : 0.9382999539375305\n",
      "训练进度：50000/ 60000 , loss = 0.010925729274749756\n",
      "test acc : 0.9358999729156494\n",
      "训练进度：60000/ 60000 , loss = 0.015702046155929565\n",
      "test acc : 0.943399965763092\n",
      "This is the epoch : 9\n",
      "训练进度：10000/ 60000 , loss = 0.009870038628578185\n",
      "test acc : 0.9472000002861023\n",
      "训练进度：20000/ 60000 , loss = 0.02366109371185303\n",
      "test acc : 0.9412999749183655\n",
      "训练进度：30000/ 60000 , loss = 0.007056317329406738\n",
      "test acc : 0.9459999799728394\n",
      "训练进度：40000/ 60000 , loss = 0.007289245128631592\n",
      "test acc : 0.9547999501228333\n",
      "训练进度：50000/ 60000 , loss = 0.00974320352077484\n",
      "test acc : 0.9449999928474426\n",
      "训练进度：60000/ 60000 , loss = 0.0186186945438385\n",
      "test acc : 0.9425999522209167\n"
     ]
    }
   ],
   "source": [
    "net_train(my_net, epoch= 10)"
   ]
  },
  {
   "cell_type": "code",
   "execution_count": 13,
   "metadata": {},
   "outputs": [],
   "source": [
    "# 在真正的测试集上看一下模型表现\n",
    "test_batch = data_test.data.unsqueeze(1).to('cuda').float()\n",
    "test_labels = data_test.targets.to('cuda')\n"
   ]
  },
  {
   "cell_type": "code",
   "execution_count": 14,
   "metadata": {},
   "outputs": [],
   "source": [
    "test_outputs = my_net(test_batch)\n",
    "test_pred = torch.max(test_outputs, 1)\n"
   ]
  },
  {
   "cell_type": "code",
   "execution_count": 15,
   "metadata": {},
   "outputs": [
    {
     "name": "stdout",
     "output_type": "stream",
     "text": [
      "test acc : 0.9325999617576599\n"
     ]
    }
   ],
   "source": [
    "print(f'test acc : {sum(test_pred[1] == test_labels) / test_labels.shape[0]}')"
   ]
  },
  {
   "cell_type": "code",
   "execution_count": 16,
   "metadata": {},
   "outputs": [],
   "source": [
    "## 保存模型\n",
    "torch.save(my_net, './LeNet1-mnist.pth') #保存模型"
   ]
  },
  {
   "cell_type": "code",
   "execution_count": null,
   "metadata": {},
   "outputs": [],
   "source": []
  }
 ],
 "metadata": {
  "interpreter": {
   "hash": "1642ed18d9d6421704caba7b7bd9f95901b19bd72ed0a22103b34f7e9a748408"
  },
  "kernelspec": {
   "display_name": "Python 3.8.10 ('dl')",
   "language": "python",
   "name": "python3"
  },
  "language_info": {
   "codemirror_mode": {
    "name": "ipython",
    "version": 3
   },
   "file_extension": ".py",
   "mimetype": "text/x-python",
   "name": "python",
   "nbconvert_exporter": "python",
   "pygments_lexer": "ipython3",
   "version": "3.8.10"
  },
  "orig_nbformat": 4
 },
 "nbformat": 4,
 "nbformat_minor": 2
}
